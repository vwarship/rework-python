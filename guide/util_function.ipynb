{
 "cells": [
  {
   "cell_type": "markdown",
   "metadata": {},
   "source": [
    "## 用辅助函数来取代复杂的表达式"
   ]
  },
  {
   "cell_type": "code",
   "execution_count": 1,
   "metadata": {},
   "outputs": [],
   "source": [
    "from urllib.parse import parse_qs"
   ]
  },
  {
   "cell_type": "code",
   "execution_count": 2,
   "metadata": {},
   "outputs": [
    {
     "name": "stdout",
     "output_type": "stream",
     "text": [
      "{'red': ['5'], 'blue': ['0'], 'green': ['']}\n"
     ]
    }
   ],
   "source": [
    "my_values = parse_qs('red=5&blue=0&green', keep_blank_values=True)\n",
    "print(my_values)"
   ]
  },
  {
   "cell_type": "code",
   "execution_count": 3,
   "metadata": {},
   "outputs": [
    {
     "name": "stdout",
     "output_type": "stream",
     "text": [
      "red:  ['5']\n",
      "blue:  ['0']\n",
      "green:  ['']\n"
     ]
    }
   ],
   "source": [
    "print('red: ', my_values.get('red'))\n",
    "print('blue: ', my_values.get('blue'))\n",
    "print('green: ', my_values.get('green'))"
   ]
  },
  {
   "cell_type": "code",
   "execution_count": 16,
   "metadata": {},
   "outputs": [
    {
     "name": "stdout",
     "output_type": "stream",
     "text": [
      "red: '5'\n",
      "blue: '0'\n",
      "green: 0\n"
     ]
    }
   ],
   "source": [
    "red = my_values.get('red', [''])[0] or 0\n",
    "blue = my_values.get('blue', [''])[0] or 0\n",
    "green = my_values.get('green', [''])[0] or 0\n",
    "print('red: %r'% red)\n",
    "print('blue: %r'% blue)\n",
    "print('green: %r'% green)"
   ]
  },
  {
   "cell_type": "code",
   "execution_count": 17,
   "metadata": {},
   "outputs": [
    {
     "name": "stdout",
     "output_type": "stream",
     "text": [
      "5\n"
     ]
    }
   ],
   "source": [
    "red = int(my_values.get('red', [''])[0] or 0)\n",
    "print(red)"
   ]
  },
  {
   "cell_type": "code",
   "execution_count": 19,
   "metadata": {},
   "outputs": [
    {
     "name": "stdout",
     "output_type": "stream",
     "text": [
      "0\n"
     ]
    }
   ],
   "source": [
    "blue = my_values.get('blue')\n",
    "blue = int(blue[0]) if blue[0] else 0\n",
    "print(blue)"
   ]
  },
  {
   "cell_type": "code",
   "execution_count": 23,
   "metadata": {},
   "outputs": [
    {
     "name": "stdout",
     "output_type": "stream",
     "text": [
      "0\n"
     ]
    }
   ],
   "source": [
    "green = my_values.get('green')\n",
    "if green[0]:\n",
    "    green = int(green[0])\n",
    "else:\n",
    "    green = 0\n",
    "print(green)"
   ]
  },
  {
   "cell_type": "code",
   "execution_count": 24,
   "metadata": {},
   "outputs": [],
   "source": [
    "def get_first_int(values, key, default=0):\n",
    "    value = values.get(key)\n",
    "    if value[0]:\n",
    "        value = int(value[0])\n",
    "    else:\n",
    "        value = default\n",
    "    return value"
   ]
  },
  {
   "cell_type": "code",
   "execution_count": 25,
   "metadata": {},
   "outputs": [
    {
     "name": "stdout",
     "output_type": "stream",
     "text": [
      "5 0 0\n"
     ]
    }
   ],
   "source": [
    "red = get_first_int(my_values, 'red')\n",
    "blue = get_first_int(my_values, 'blue')\n",
    "green = get_first_int(my_values, 'green')\n",
    "print(red, blue, green)"
   ]
  }
 ],
 "metadata": {
  "kernelspec": {
   "display_name": "Python 3",
   "language": "python",
   "name": "python3"
  },
  "language_info": {
   "codemirror_mode": {
    "name": "ipython",
    "version": 3
   },
   "file_extension": ".py",
   "mimetype": "text/x-python",
   "name": "python",
   "nbconvert_exporter": "python",
   "pygments_lexer": "ipython3",
   "version": "3.6.2"
  }
 },
 "nbformat": 4,
 "nbformat_minor": 2
}
