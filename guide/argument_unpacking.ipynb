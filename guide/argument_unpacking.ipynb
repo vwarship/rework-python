{
 "cells": [
  {
   "cell_type": "markdown",
   "metadata": {},
   "source": [
    "## args 位置参数\n",
    "## kwargs 关键字参数\n",
    "\n",
    "## *args 序列解包操作\n",
    "## **kwargs 映射解包操作"
   ]
  },
  {
   "cell_type": "code",
   "execution_count": 38,
   "metadata": {},
   "outputs": [],
   "source": [
    "def print_setup(*args, **kwargs):\n",
    "    print(args.__class__.__name__, args)\n",
    "    print(kwargs.__class__.__name__, kwargs)"
   ]
  },
  {
   "cell_type": "code",
   "execution_count": 13,
   "metadata": {},
   "outputs": [
    {
     "name": "stdout",
     "output_type": "stream",
     "text": [
      "tuple (800, 600)\n",
      "dict {'copies': 2, 'collate': False}\n"
     ]
    }
   ],
   "source": [
    "args = (800, 600)\n",
    "# kwargs = {'copies':2, 'collate':False}\n",
    "kwargs = dict(copies=2, collate=False)\n",
    "\n",
    "print_setup(*args, **kwargs)"
   ]
  },
  {
   "cell_type": "code",
   "execution_count": 36,
   "metadata": {},
   "outputs": [
    {
     "name": "stdout",
     "output_type": "stream",
     "text": [
      "tuple (1, 2, 3)\n",
      "dict {'a': 2}\n",
      "tuple ()\n",
      "dict {}\n"
     ]
    }
   ],
   "source": [
    "print_setup(1, 2, 3, a=2)\n",
    "print_setup()"
   ]
  },
  {
   "cell_type": "markdown",
   "metadata": {},
   "source": [
    "## 函数内传参"
   ]
  },
  {
   "cell_type": "code",
   "execution_count": 57,
   "metadata": {},
   "outputs": [
    {
     "name": "stdout",
     "output_type": "stream",
     "text": [
      "tuple (800, 600)\n",
      "dict {'copies': 2, 'collate': False}\n"
     ]
    }
   ],
   "source": [
    "def print_setup_wrap(*args, **kwargs):\n",
    "    print_setup(*args, **kwargs)\n",
    "\n",
    "print_setup_wrap(*args, **kwargs)"
   ]
  },
  {
   "cell_type": "markdown",
   "metadata": {},
   "source": [
    "## locals()"
   ]
  },
  {
   "cell_type": "code",
   "execution_count": 40,
   "metadata": {},
   "outputs": [
    {
     "name": "stdout",
     "output_type": "stream",
     "text": [
      "{'z': 3, 'y': 2, 'x': 1}\n",
      "x=1, y=2, z=3\n"
     ]
    }
   ],
   "source": [
    "def print_format(x, y, z):\n",
    "    print(locals())\n",
    "    print('x={x}, y={y}, z={z}'.format(**locals()))\n",
    "\n",
    "\n",
    "print_format(1, 2, 3)"
   ]
  }
 ],
 "metadata": {
  "kernelspec": {
   "display_name": "Python 3",
   "language": "python",
   "name": "python3"
  },
  "language_info": {
   "codemirror_mode": {
    "name": "ipython",
    "version": 3
   },
   "file_extension": ".py",
   "mimetype": "text/x-python",
   "name": "python",
   "nbconvert_exporter": "python",
   "pygments_lexer": "ipython3",
   "version": "3.6.2"
  }
 },
 "nbformat": 4,
 "nbformat_minor": 2
}
